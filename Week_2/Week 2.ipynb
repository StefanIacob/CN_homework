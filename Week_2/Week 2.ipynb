{
 "cells": [
  {
   "cell_type": "code",
   "execution_count": 69,
   "metadata": {},
   "outputs": [],
   "source": [
    "import numpy as np\n",
    "import matplotlib.pyplot as plt\n",
    "from scipy.misc import derivative\n",
    "from scipy.optimize import root\n",
    "from functools import partial\n",
    "import math\n",
    "# Davide was here"
   ]
  },
  {
   "cell_type": "markdown",
   "metadata": {},
   "source": [
    "# Homework CNS Week 2\n",
    "## Stefan Iacob (s4575121), Bas Krahmer (s4616553), Davide Sabeddu (s1032453)\n",
    "\n",
    "## Assignment 1\n",
    "### a)\n",
    "\n",
    "\n",
    "### b)\n",
    "<img src=\"2_1b-1.jpg\">\n",
    "\n",
    "### c)"
   ]
  },
  {
   "cell_type": "markdown",
   "metadata": {},
   "source": [
    "## Assignment 2\n",
    "### a)\n"
   ]
  },
  {
   "cell_type": "code",
   "execution_count": null,
   "metadata": {},
   "outputs": [],
   "source": []
  },
  {
   "cell_type": "markdown",
   "metadata": {},
   "source": [
    "\n",
    "### b)"
   ]
  },
  {
   "cell_type": "code",
   "execution_count": null,
   "metadata": {},
   "outputs": [],
   "source": []
  },
  {
   "cell_type": "markdown",
   "metadata": {},
   "source": [
    "## Assignment 3"
   ]
  },
  {
   "cell_type": "code",
   "execution_count": 81,
   "metadata": {},
   "outputs": [
    {
     "data": {
      "image/png": "[encoded data removed]",
      "text/plain": [
       "<Figure size 432x288 with 1 Axes>"
      ]
     },
     "metadata": {
      "needs_background": "light"
     },
     "output_type": "display_data"
    }
   ],
   "source": [
    "def plot_radius(r_prime, plot_title, theta_prime=2*math.pi):\n",
    "    c_vals = np.linspace(-2.0, 2.0, 2000)\n",
    "    r_vals = np.linspace(0.001, 6.0, 2000)\n",
    "    steady_state_solutions = []\n",
    "    \n",
    "    # For all C values\n",
    "    for c in c_vals:\n",
    "        r_prime_vals = r_prime(r_vals, c)\n",
    "\n",
    "        # Find the value where the derivative of r is closest to 0\n",
    "        solution_index = np.where(r_prime_vals == min(r_prime_vals, key=lambda x:abs(x)))\n",
    "        solution = r_vals[solution_index]\n",
    "\n",
    "        steady_state_solutions.append(solution)\n",
    "        \n",
    "    plt.plot(c_vals, steady_state_solutions, label=plot_title)\n",
    "    plt.xlabel('c')\n",
    "    plt.ylabel('r')\n",
    "    plt.xlim(-2, 2)\n",
    "    plt.legend()\n",
    "    \n",
    "    return plt\n",
    "\n",
    "\n",
    "def r_prime1(r, c):\n",
    "    return r*(c - r**2)\n",
    "\n",
    "def r_prime2(r, c):\n",
    "    return r*(c + 2*r**2 - r**4)\n",
    "\n",
    "plot_radius(r_prime1, 'First function')\n",
    "plot_radius(r_prime2, 'Second function')\n",
    "plt.show()"
   ]
  },
  {
   "cell_type": "markdown",
   "metadata": {},
   "source": [
    "In the above function the first function (blue) is stable for c<0 for r=0. The slope is equal to the square root of c. For the second function (orange) we can identify the different behavior for -1<c<0 and for c>0. The dynamics change at c=0 for the second function.\n",
    "\n",
    "This can be numerically calculated too. For c=0 and c=-1, the stability is undeterminate, making this the dangerous one."
   ]
  },
  {
   "cell_type": "markdown",
   "metadata": {},
   "source": [
    "### Fixed points stability calculation:\n",
    "\n",
    "<img src=\"3-1.jpg\">\n",
    "<img src=\"3-2.jpg\">"
   ]
  },
  {
   "cell_type": "code",
   "execution_count": null,
   "metadata": {},
   "outputs": [],
   "source": []
  }
 ],
 "metadata": {
  "kernelspec": {
   "display_name": "Python 3",
   "language": "python",
   "name": "python3"
  },
  "language_info": {
   "codemirror_mode": {
    "name": "ipython",
    "version": 3
   },
   "file_extension": ".py",
   "mimetype": "text/x-python",
   "name": "python",
   "nbconvert_exporter": "python",
   "pygments_lexer": "ipython3",
   "version": "3.6.8"
  }
 },
 "nbformat": 4,
 "nbformat_minor": 2
}
