{
 "cells": [
  {
   "cell_type": "markdown",
   "metadata": {},
   "source": [
    "## Stefan Iacob (s4575121), Bas Krahmer (s4616553), Davide Sabeddu (s1032453)"
   ]
  },
  {
   "cell_type": "markdown",
   "metadata": {},
   "source": [
    "# Problem 1a\n",
    "<img src=\"1a.jpg\">\n",
    "\n",
    "Problem 1b\n",
    "<img src=\"1b.jpg\">"
   ]
  },
  {
   "cell_type": "markdown",
   "metadata": {},
   "source": [
    "## Problem 2a\n",
    "<img src=\"0001.jpg\">"
   ]
  },
  {
   "cell_type": "code",
   "execution_count": 1,
   "metadata": {},
   "outputs": [],
   "source": [
    "import numpy as np\n",
    "import matplotlib.pyplot as plt\n",
    "from numpy import ma\n",
    "np.set_printoptions(formatter={'float': lambda x: \"{0:0.2f}\".format(x)})\n"
   ]
  },
  {
   "cell_type": "markdown",
   "metadata": {},
   "source": [
    "## Problem 2b"
   ]
  },
  {
   "cell_type": "code",
   "execution_count": 2,
   "metadata": {},
   "outputs": [
    {
     "data": {
      "text/plain": [
       "array([[0.67, 0.28, 0.03, 0.03],\n",
       "       [0.28, 0.67, 0.03, 0.03],\n",
       "       [0.06, 0.06, 0.44, 0.44]])"
      ]
     },
     "execution_count": 2,
     "metadata": {},
     "output_type": "execute_result"
    }
   ],
   "source": [
    "r_1 = [24/36, 10/36, 2/36]\n",
    "r_2 = [10/36, 24/36, 2/36]\n",
    "r_3 = [1/36, 1/36, 16/36]\n",
    "r_4 = [1/36, 1/36, 16/36]\n",
    "P_rs = []\n",
    "P_rs.append(r_1)\n",
    "P_rs.append(r_2)\n",
    "P_rs.append(r_3)\n",
    "P_rs.append(r_4)\n",
    "P_rs = np.array(P_rs)\n",
    "\n",
    "P_rs.T"
   ]
  },
  {
   "cell_type": "code",
   "execution_count": null,
   "metadata": {},
   "outputs": [],
   "source": []
  },
  {
   "cell_type": "markdown",
   "metadata": {},
   "source": [
    "## 2c"
   ]
  },
  {
   "cell_type": "code",
   "execution_count": 3,
   "metadata": {},
   "outputs": [
    {
     "name": "stdout",
     "output_type": "stream",
     "text": [
      "--- Original distribution ---\n",
      "[[0.67 0.28 0.03 0.03]\n",
      " [0.28 0.67 0.03 0.03]\n",
      " [0.06 0.06 0.44 0.44]]\n",
      "\n",
      "--- Sampled distribution ---\n",
      "[[0.65 0.28 0.03 0.04]\n",
      " [0.28 0.66 0.02 0.03]\n",
      " [0.07 0.05 0.45 0.43]]\n",
      "\n",
      " --- N_samples: 500 ---\n"
     ]
    }
   ],
   "source": [
    "def sample_distribution(N_s, print_dist=False):\n",
    "\n",
    "    # Generate responses\n",
    "    r_s0 = np.random.choice([1,2,3,4], (N_s), p = P_rs.T[0])\n",
    "    r_s1 = np.random.choice([1,2,3,4], (N_s), p = P_rs.T[1])\n",
    "    r_s2 = np.random.choice([1,2,3,4], (N_s), p = P_rs.T[2])\n",
    "\n",
    "    # Zip responses to corresponding stimuli\n",
    "    pairs_0 = list(zip(np.zeros(len(r_s0)).astype(int)+1, r_s0))\n",
    "    pairs_1 = list(zip(np.zeros(len(r_s0)).astype(int)+2, r_s1))\n",
    "    pairs_2 = list(zip(np.zeros(len(r_s0)).astype(int)+3, r_s2))\n",
    "\n",
    "    # Zip all samples together\n",
    "    total_samples = pairs_0 + pairs_1 + pairs_2\n",
    "\n",
    "\n",
    "    n_r_s0 = [0, 0, 0, 0]\n",
    "    n_r_s1 = [0, 0, 0, 0]\n",
    "    n_r_s2 = [0, 0, 0, 0]\n",
    "\n",
    "    for s, r in pairs_0:\n",
    "        n_r_s0[r-1] += 1\n",
    "\n",
    "    for s, r in pairs_1:\n",
    "        n_r_s1[r-1] += 1\n",
    "\n",
    "    for s, r in pairs_2:\n",
    "        n_r_s2[r-1] += 1\n",
    "\n",
    "    p_r_s0 = np.array(n_r_s0)/N_s\n",
    "    p_r_s1 = np.array(n_r_s1)/N_s\n",
    "    p_r_s2 = np.array(n_r_s2)/N_s\n",
    "    \n",
    "    P_rs_sampled = []\n",
    "    P_rs_sampled.append(p_r_s0)\n",
    "    P_rs_sampled.append(p_r_s1)\n",
    "    P_rs_sampled.append(p_r_s2)\n",
    "    P_rs_sampled = np.array(P_rs_sampled)\n",
    "    \n",
    "    if print_dist:\n",
    "        print(\"--- Original distribution ---\")\n",
    "        print(P_rs.T)\n",
    "\n",
    "        print(\"\\n--- Sampled distribution ---\")\n",
    "        print(P_rs_sampled)\n",
    "\n",
    "        print(\"\\n --- N_samples: {} ---\".format(N_s))\n",
    "    \n",
    "    return P_rs_sampled\n",
    "\n",
    "N_s = 500 # Number of samples per stimulus\n",
    "sampled = sample_distribution(N_s, print_dist=True)\n"
   ]
  },
  {
   "cell_type": "markdown",
   "metadata": {},
   "source": [
    "## 2D"
   ]
  },
  {
   "cell_type": "code",
   "execution_count": 4,
   "metadata": {},
   "outputs": [
    {
     "name": "stderr",
     "output_type": "stream",
     "text": [
      "C:\\Users\\Davide\\Anaconda3\\lib\\site-packages\\numpy\\ma\\core.py:2788: UserWarning: Warning: converting a masked element to nan.\n",
      "  order=order, subok=True, ndmin=ndmin)\n"
     ]
    },
    {
     "data": {
      "text/plain": [
       "<matplotlib.legend.Legend at 0x1fb25950b00>"
      ]
     },
     "execution_count": 4,
     "metadata": {},
     "output_type": "execute_result"
    },
    {
     "data": {
      "image/png": "[encoded data removed]",
      "text/plain": [
       "<Figure size 432x288 with 1 Axes>"
      ]
     },
     "metadata": {
      "needs_background": "light"
     },
     "output_type": "display_data"
    }
   ],
   "source": [
    "def response_entropy(P):\n",
    "    r_sums = np.sum(P, axis=0)\n",
    "    p_r = r_sums / (np.sum(r_sums))\n",
    "    return -1 * ma.sum([r * ma.log2(r) for r in p_r])\n",
    "\n",
    "def noise_entropy(P):\n",
    "    s_sums = np.sum(P, axis=1)\n",
    "    p_s = s_sums / (np.sum(s_sums))\n",
    "    return -1 * ma.sum(p_s * ma.sum([r * ma.log2(r) for r in P], axis=1))\n",
    "\n",
    "def find_entropies(N, n_calculations=10):\n",
    "    \n",
    "    H_r_list = np.zeros(n_calculations)\n",
    "    H_noise_list = np.zeros(n_calculations)\n",
    "    \n",
    "    for i in range(n_calculations):\n",
    "        dist = sample_distribution(N)\n",
    "        H_r_list[i] = response_entropy(dist)\n",
    "        H_noise_list[i] = noise_entropy(dist)\n",
    "        \n",
    "    return np.mean(H_r_list), np.mean(H_noise_list)\n",
    "\n",
    "N_values = np.arange(1,50)\n",
    "H_r_values = np.zeros(len(N_values))\n",
    "H_noise_values = np.zeros(len(N_values))\n",
    "n_calc = 30\n",
    "\n",
    "for N_val in N_values:\n",
    "    H_r_val, H_noise_val = find_entropies(N_val, n_calc)\n",
    "    H_r_values[N_val-1] = H_r_val\n",
    "    H_noise_values[N_val-1] = H_noise_val\n",
    "\n",
    "plt.title('Entropy values with {} calculations for each N value'.format(n_calc))\n",
    "plt.plot(H_r_values, label='$H_r$')\n",
    "plt.plot(H_noise_values, label='$H_{noise}$')\n",
    "plt.plot(H_r_values - H_noise_values, label='$I_m$')\n",
    "plt.legend()"
   ]
  },
  {
   "cell_type": "code",
   "execution_count": 5,
   "metadata": {},
   "outputs": [
    {
     "data": {
      "text/plain": [
       "<matplotlib.legend.Legend at 0x1fb25a84c18>"
      ]
     },
     "execution_count": 5,
     "metadata": {},
     "output_type": "execute_result"
    },
    {
     "data": {
      "image/png": "[encoded data removed]",
      "text/plain": [
       "<Figure size 432x288 with 1 Axes>"
      ]
     },
     "metadata": {
      "needs_background": "light"
     },
     "output_type": "display_data"
    }
   ],
   "source": [
    "N_values = np.arange(1,500)\n",
    "H_r_values = np.zeros(len(N_values))\n",
    "H_noise_values = np.zeros(len(N_values))\n",
    "n_calc = 3\n",
    "\n",
    "for N_val in N_values:\n",
    "    H_r_val, H_noise_val = find_entropies(N_val, n_calc)\n",
    "    H_r_values[N_val-1] = H_r_val\n",
    "    H_noise_values[N_val-1] = H_noise_val\n",
    "\n",
    "plt.title('Entropy values with {} calculations for each N value'.format(n_calc))\n",
    "plt.plot(H_r_values, label='$H_r$')\n",
    "plt.plot(H_noise_values, label='$H_{noise}$')\n",
    "plt.plot(H_r_values - H_noise_values, label='$I_m$')\n",
    "plt.legend()"
   ]
  },
  {
   "cell_type": "code",
   "execution_count": 6,
   "metadata": {},
   "outputs": [
    {
     "name": "stdout",
     "output_type": "stream",
     "text": [
      "Response entropy: 1.918597566484812\n",
      "Noise entropy: 1.2933569532068965\n"
     ]
    }
   ],
   "source": [
    "H_r_val, H_noise_val = find_entropies(50000, 1)\n",
    "print('Response entropy: {}'.format(H_r_val))\n",
    "print('Noise entropy: {}'.format(H_noise_val))"
   ]
  },
  {
   "cell_type": "markdown",
   "metadata": {},
   "source": [
    "In the analytical computation, the value found for the noise entropy was 1.9 and the value for the noise entropy 1.34. These are close to the values above, but still differ quite a bit for the decimals. This can however be attributed to the roundoff error, where in the computation of the noise entropy more roundoff is present and thus the error can be of a larger magnitute. "
   ]
  },
  {
   "cell_type": "markdown",
   "metadata": {},
   "source": [
    "# Problem 3a\n",
    "<img src=\"3.a.jpg\">\n"
   ]
  }
 ],
 "metadata": {
  "kernelspec": {
   "display_name": "Python 3",
   "language": "python",
   "name": "python3"
  },
  "language_info": {
   "codemirror_mode": {
    "name": "ipython",
    "version": 3
   },
   "file_extension": ".py",
   "mimetype": "text/x-python",
   "name": "python",
   "nbconvert_exporter": "python",
   "pygments_lexer": "ipython3",
   "version": "3.7.3"
  }
 },
 "nbformat": 4,
 "nbformat_minor": 2
}
