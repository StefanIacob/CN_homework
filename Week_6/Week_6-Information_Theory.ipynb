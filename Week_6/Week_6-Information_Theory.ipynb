{
 "cells": [
  {
   "cell_type": "markdown",
   "metadata": {},
   "source": [
    "## Stefan Iacob (s4575121), Bas Krahmer (s4616553), Davide Sabeddu (s1032453)"
   ]
  },
  {
   "cell_type": "markdown",
   "metadata": {},
   "source": [
    "# Problem 1a\n",
    "<img src=\"1a.jpg\">\n",
    "\n",
    "Problem 1b\n",
    "<img src=\"1b.jpg\">"
   ]
  },
  {
   "cell_type": "markdown",
   "metadata": {},
   "source": [
    "## Problem 2a\n",
    "<img src=\"0001.jpg\">"
   ]
  },
  {
   "cell_type": "code",
   "execution_count": 2,
   "metadata": {},
   "outputs": [],
   "source": [
    "import numpy as np\n",
    "import matplotlib.pyplot as plt\n",
    "from numpy import ma\n",
    "np.set_printoptions(formatter={'float': lambda x: \"{0:0.2f}\".format(x)})\n"
   ]
  },
  {
   "cell_type": "markdown",
   "metadata": {},
   "source": [
    "## Problem 2b"
   ]
  },
  {
   "cell_type": "code",
   "execution_count": 3,
   "metadata": {},
   "outputs": [
    {
     "data": {
      "text/plain": [
       "array([[0.67, 0.28, 0.03, 0.03],\n",
       "       [0.28, 0.67, 0.03, 0.03],\n",
       "       [0.06, 0.06, 0.44, 0.44]])"
      ]
     },
     "execution_count": 3,
     "metadata": {},
     "output_type": "execute_result"
    }
   ],
   "source": [
    "r_1 = [24/36, 10/36, 2/36]\n",
    "r_2 = [10/36, 24/36, 2/36]\n",
    "r_3 = [1/36, 1/36, 16/36]\n",
    "r_4 = [1/36, 1/36, 16/36]\n",
    "P_rs = []\n",
    "P_rs.append(r_1)\n",
    "P_rs.append(r_2)\n",
    "P_rs.append(r_3)\n",
    "P_rs.append(r_4)\n",
    "P_rs = np.array(P_rs)\n",
    "\n",
    "P_rs.T"
   ]
  },
  {
   "cell_type": "code",
   "execution_count": null,
   "metadata": {},
   "outputs": [],
   "source": []
  },
  {
   "cell_type": "markdown",
   "metadata": {},
   "source": [
    "## 2c"
   ]
  },
  {
   "cell_type": "code",
   "execution_count": 4,
   "metadata": {},
   "outputs": [
    {
     "name": "stdout",
     "output_type": "stream",
     "text": [
      "--- Original distribution ---\n",
      "[[0.67 0.28 0.03 0.03]\n",
      " [0.28 0.67 0.03 0.03]\n",
      " [0.06 0.06 0.44 0.44]]\n",
      "\n",
      "--- Sampled distribution ---\n",
      "[[0.62 0.31 0.03 0.04]\n",
      " [0.25 0.68 0.03 0.03]\n",
      " [0.04 0.05 0.46 0.45]]\n",
      "\n",
      " --- N_samples: 500 ---\n"
     ]
    }
   ],
   "source": [
    "def sample_distribution(N_s, print_dist=False):\n",
    "\n",
    "    # Generate responses\n",
    "    r_s0 = np.random.choice([1,2,3,4], (N_s), p = P_rs.T[0])\n",
    "    r_s1 = np.random.choice([1,2,3,4], (N_s), p = P_rs.T[1])\n",
    "    r_s2 = np.random.choice([1,2,3,4], (N_s), p = P_rs.T[2])\n",
    "\n",
    "    # Zip responses to corresponding stimuli\n",
    "    pairs_0 = list(zip(np.zeros(len(r_s0)).astype(int)+1, r_s0))\n",
    "    pairs_1 = list(zip(np.zeros(len(r_s0)).astype(int)+2, r_s1))\n",
    "    pairs_2 = list(zip(np.zeros(len(r_s0)).astype(int)+3, r_s2))\n",
    "\n",
    "    # Zip all samples together\n",
    "    total_samples = pairs_0 + pairs_1 + pairs_2\n",
    "\n",
    "\n",
    "    n_r_s0 = [0, 0, 0, 0]\n",
    "    n_r_s1 = [0, 0, 0, 0]\n",
    "    n_r_s2 = [0, 0, 0, 0]\n",
    "\n",
    "    for s, r in pairs_0:\n",
    "        n_r_s0[r-1] += 1\n",
    "\n",
    "    for s, r in pairs_1:\n",
    "        n_r_s1[r-1] += 1\n",
    "\n",
    "    for s, r in pairs_2:\n",
    "        n_r_s2[r-1] += 1\n",
    "\n",
    "    p_r_s0 = np.array(n_r_s0)/N_s\n",
    "    p_r_s1 = np.array(n_r_s1)/N_s\n",
    "    p_r_s2 = np.array(n_r_s2)/N_s\n",
    "    \n",
    "    P_rs_sampled = []\n",
    "    P_rs_sampled.append(p_r_s0)\n",
    "    P_rs_sampled.append(p_r_s1)\n",
    "    P_rs_sampled.append(p_r_s2)\n",
    "    P_rs_sampled = np.array(P_rs_sampled)\n",
    "    \n",
    "    if print_dist:\n",
    "        print(\"--- Original distribution ---\")\n",
    "        print(P_rs.T)\n",
    "\n",
    "        print(\"\\n--- Sampled distribution ---\")\n",
    "        print(P_rs_sampled)\n",
    "\n",
    "        print(\"\\n --- N_samples: {} ---\".format(N_s))\n",
    "    \n",
    "    return P_rs_sampled\n",
    "\n",
    "N_s = 500 # Number of samples per stimulus\n",
    "sampled = sample_distribution(N_s, print_dist=True)\n"
   ]
  },
  {
   "cell_type": "markdown",
   "metadata": {},
   "source": [
    "## 2D"
   ]
  },
  {
   "cell_type": "code",
   "execution_count": 5,
   "metadata": {},
   "outputs": [
    {
     "name": "stderr",
     "output_type": "stream",
     "text": [
      "C:\\Users\\Bas\\Anaconda3\\lib\\site-packages\\numpy\\ma\\core.py:2784: UserWarning: Warning: converting a masked element to nan.\n",
      "  order=order, subok=True, ndmin=ndmin)\n"
     ]
    },
    {
     "data": {
      "text/plain": [
       "<matplotlib.legend.Legend at 0x246d096d550>"
      ]
     },
     "execution_count": 5,
     "metadata": {},
     "output_type": "execute_result"
    },
    {
     "data": {
      "image/png": "[encoded data removed]",
      "text/plain": [
       "<Figure size 432x288 with 1 Axes>"
      ]
     },
     "metadata": {
      "needs_background": "light"
     },
     "output_type": "display_data"
    }
   ],
   "source": [
    "def response_entropy(P):\n",
    "    r_sums = np.sum(P, axis=0)\n",
    "    p_r = r_sums / (np.sum(r_sums))\n",
    "    return -1 * ma.sum([r * ma.log2(r) for r in p_r])\n",
    "\n",
    "def noise_entropy(P):\n",
    "    s_sums = np.sum(P, axis=1)\n",
    "    p_s = s_sums / (np.sum(s_sums))\n",
    "    return -1 * ma.sum(p_s * ma.sum([r * ma.log2(r) for r in P], axis=1))\n",
    "\n",
    "def find_entropies(N, n_calculations=10):\n",
    "    \n",
    "    H_r_list = np.zeros(n_calculations)\n",
    "    H_noise_list = np.zeros(n_calculations)\n",
    "    \n",
    "    for i in range(n_calculations):\n",
    "        dist = sample_distribution(N)\n",
    "        H_r_list[i] = response_entropy(dist)\n",
    "        H_noise_list[i] = noise_entropy(dist)\n",
    "        \n",
    "    return np.mean(H_r_list), np.mean(H_noise_list)\n",
    "\n",
    "N_values = np.arange(1,50)\n",
    "H_r_values = np.zeros(len(N_values))\n",
    "H_noise_values = np.zeros(len(N_values))\n",
    "n_calc = 30\n",
    "\n",
    "for N_val in N_values:\n",
    "    H_r_val, H_noise_val = find_entropies(N_val, n_calc)\n",
    "    H_r_values[N_val-1] = H_r_val\n",
    "    H_noise_values[N_val-1] = H_noise_val\n",
    "\n",
    "plt.title('Entropy values with {} calculations for each N value'.format(n_calc))\n",
    "plt.plot(H_r_values, label='$H_r$')\n",
    "plt.plot(H_noise_values, label='$H_{noise}$')\n",
    "plt.plot(H_r_values - H_noise_values, label='$I_m$')\n",
    "plt.legend()"
   ]
  },
  {
   "cell_type": "code",
   "execution_count": 6,
   "metadata": {},
   "outputs": [
    {
     "data": {
      "text/plain": [
       "<matplotlib.legend.Legend at 0x246d0a8ca58>"
      ]
     },
     "execution_count": 6,
     "metadata": {},
     "output_type": "execute_result"
    },
    {
     "data": {
      "image/png": "[encoded data removed]",
      "text/plain": [
       "<Figure size 432x288 with 1 Axes>"
      ]
     },
     "metadata": {
      "needs_background": "light"
     },
     "output_type": "display_data"
    }
   ],
   "source": [
    "N_values = np.arange(1,500)\n",
    "H_r_values = np.zeros(len(N_values))\n",
    "H_noise_values = np.zeros(len(N_values))\n",
    "n_calc = 3\n",
    "\n",
    "for N_val in N_values:\n",
    "    H_r_val, H_noise_val = find_entropies(N_val, n_calc)\n",
    "    H_r_values[N_val-1] = H_r_val\n",
    "    H_noise_values[N_val-1] = H_noise_val\n",
    "\n",
    "plt.title('Entropy values with {} calculations for each N value'.format(n_calc))\n",
    "plt.plot(H_r_values, label='$H_r$')\n",
    "plt.plot(H_noise_values, label='$H_{noise}$')\n",
    "plt.plot(H_r_values - H_noise_values, label='$I_m$')\n",
    "plt.legend()"
   ]
  },
  {
   "cell_type": "code",
   "execution_count": 7,
   "metadata": {},
   "outputs": [
    {
     "name": "stdout",
     "output_type": "stream",
     "text": [
      "Response entropy: 1.9189988469920192\n",
      "Noise entropy: 1.2938366653575555\n"
     ]
    }
   ],
   "source": [
    "H_r_val, H_noise_val = find_entropies(50000, 1)\n",
    "print('Response entropy: {}'.format(H_r_val))\n",
    "print('Noise entropy: {}'.format(H_noise_val))"
   ]
  },
  {
   "cell_type": "markdown",
   "metadata": {},
   "source": [
    "In the analytical computation, the value found for the noise entropy was 1.9 and the value for the noise entropy 1.34. These are close to the values above, but still differ quite a bit for the decimals. This can however be attributed to the roundoff error, where in the computation of the noise entropy more roundoff is present and thus the error can be of a larger magnitute. "
   ]
  },
  {
   "cell_type": "markdown",
   "metadata": {},
   "source": [
    "# Problem 3a\n",
    "<img src=\"3.a.jpg\">\n"
   ]
  },
  {
   "cell_type": "markdown",
   "metadata": {},
   "source": [
    "# b"
   ]
  },
  {
   "cell_type": "code",
   "execution_count": 50,
   "metadata": {},
   "outputs": [
    {
     "name": "stdout",
     "output_type": "stream",
     "text": [
      "--- (r_a,r_b|s_1) ---\n",
      "[[0.22 0.17 0.06]\n",
      " [0.17 0.22 0.00]\n",
      " [0.06 0.06 0.06]]\n",
      "\n",
      "--- P(r_a,r_b|s_1) ---\n",
      "[[0.06 0.06 0.06]\n",
      " [0.05 0.22 0.17]\n",
      " [0.01 0.17 0.22]]\n"
     ]
    }
   ],
   "source": [
    "r_1 = [4/18, 3/18, 1/18]\n",
    "r_2 = [3/18, 4/18, 1/18]\n",
    "r_3 = [1/18, 0, 1/18]\n",
    "P_s1 = []\n",
    "P_s1.append(r_1)\n",
    "P_s1.append(r_2)\n",
    "P_s1.append(r_3)\n",
    "P_s1 = np.array(P_s1)\n",
    "\n",
    "r_1 = [1/18, 7/144, 1/144]\n",
    "r_2 = [1/18, 4/18, 3/18]\n",
    "r_3 = [1/18, 3/18, 4/18]\n",
    "P_s2 = []\n",
    "P_s2.append(r_1)\n",
    "P_s2.append(r_2)\n",
    "P_s2.append(r_3)\n",
    "P_s2 = np.array(P_s2)\n",
    "\n",
    "print(\"--- (r_a,r_b|s_1) ---\")\n",
    "print(P_s1.T)\n",
    "print(\"\\n--- P(r_a,r_b|s_1) ---\")\n",
    "print(P_s2.T)"
   ]
  },
  {
   "cell_type": "code",
   "execution_count": 51,
   "metadata": {},
   "outputs": [
    {
     "name": "stdout",
     "output_type": "stream",
     "text": [
      "True MI:\n",
      "2.8862012595673643\n"
     ]
    }
   ],
   "source": [
    "# https://datascience.stackexchange.com/questions/9262/calculating-kl-divergence-in-python\n",
    "def KL(P,Q):\n",
    "    \"\"\" Epsilon is used here to avoid conditional code for\n",
    "    checking that neither P nor Q is equal to 0. \"\"\"\n",
    "    epsilon = 0.00001\n",
    "\n",
    "    # You may want to instead make copies to avoid changing the np arrays.\n",
    "    P = P+epsilon\n",
    "    Q = Q+epsilon\n",
    "\n",
    "    divergence = np.sum(P*np.log(P/Q))\n",
    "    return divergence\n",
    "\n",
    "print(\"True MI:\")\n",
    "true_MI = KL((P_s1 + P_s2)/2, P_s1*P_s2)\n",
    "print(true_MI)"
   ]
  },
  {
   "cell_type": "code",
   "execution_count": 52,
   "metadata": {},
   "outputs": [
    {
     "name": "stdout",
     "output_type": "stream",
     "text": [
      "--- Original distribution ---\n",
      "[[0.22 0.17 0.06]\n",
      " [0.17 0.22 0.00]\n",
      " [0.06 0.06 0.06]]\n",
      "\n",
      "--- Sampled distribution ---\n",
      "[[0.23 0.16 0.01]\n",
      " [0.18 0.21 0.09]\n",
      " [0.08 0.00 0.04]]\n",
      "\n",
      " --- N_samples: 100 ---\n"
     ]
    },
    {
     "data": {
      "text/plain": [
       "array([[0.23, 0.16, 0.01],\n",
       "       [0.18, 0.21, 0.09],\n",
       "       [0.08, 0.00, 0.04]])"
      ]
     },
     "execution_count": 52,
     "metadata": {},
     "output_type": "execute_result"
    }
   ],
   "source": [
    "def sample_distribution2(N_s, P_rs, print_dist=False):\n",
    "\n",
    "    # Generate responses\n",
    "    r_s0 = np.random.choice([1,2,3,4,5,6,7,8,9], (N_s), p = P_rs.flatten())\n",
    "\n",
    "\n",
    "    P_rs_sampled = [0, 0, 0, 0, 0, 0, 0, 0, 0]\n",
    "\n",
    "    for r in r_s0:\n",
    "        P_rs_sampled[r-1] += 1\n",
    "    \n",
    "    P_rs_sampled = np.array(P_rs_sampled)\n",
    "    P_rs_sampled = P_rs_sampled/np.sum(P_rs_sampled)\n",
    "    P_rs_sampled = P_rs_sampled.reshape((3,3))\n",
    "    \n",
    "    if print_dist:\n",
    "        print(\"--- Original distribution ---\")\n",
    "        print(P_rs.T)\n",
    "\n",
    "        print(\"\\n--- Sampled distribution ---\")\n",
    "        print(P_rs_sampled)\n",
    "\n",
    "        print(\"\\n --- N_samples: {} ---\".format(N_s))\n",
    "    \n",
    "    return P_rs_sampled\n",
    "\n",
    "sample_distribution2(100, P_s1, True)"
   ]
  },
  {
   "cell_type": "code",
   "execution_count": 64,
   "metadata": {},
   "outputs": [
    {
     "name": "stdout",
     "output_type": "stream",
     "text": [
      "Mutual information biases for N = 100 and N = 1000\n",
      "[-0.10 -0.01]\n"
     ]
    }
   ],
   "source": [
    "N_values = [100, 1000]\n",
    "H_r_values = np.zeros(len(N_values))\n",
    "H_noise_values = np.zeros(len(N_values))\n",
    "n_calc = 30\n",
    "\n",
    "biases = np.zeros(len(N_values))\n",
    "b_index = 0\n",
    "\n",
    "for N_val in N_values:\n",
    "\n",
    "    mut_information_vals = np.zeros(n_calc)\n",
    "    \n",
    "    for i in range(n_calc):\n",
    "        \n",
    "        P_s1_sampled = sample_distribution2(N_val, P_s1)\n",
    "        P_s2_sampled = sample_distribution2(N_val, P_s2)\n",
    "        \n",
    "        mut_information_vals[i] = KL((P_s1_sampled + P_s2_sampled)/2, P_s1_sampled*P_s2_sampled)\n",
    "    \n",
    "    biases[b_index] = true_MI - np.mean(mut_information_vals)\n",
    "    b_index += 1\n",
    "    \n",
    "print(\"Mutual information biases for N = 100 and N = 1000\")\n",
    "print(biases)"
   ]
  },
  {
   "cell_type": "markdown",
   "metadata": {},
   "source": [
    "# c and d"
   ]
  },
  {
   "cell_type": "markdown",
   "metadata": {},
   "source": [
    "Correlations between response variables can be removed by shuffling the samples at a fixed stimulus. Using this knowledge, the mutual information can be computed by subtracting the difference between the shufled and independent entropy terms. These correlations are rather weak for large number of responses N, however Ince et. al. show in their paper that for small sample sizes the effect of shuffling is huge bias correction in the mutual information."
   ]
  }
 ],
 "metadata": {
  "kernelspec": {
   "display_name": "Python 3",
   "language": "python",
   "name": "python3"
  },
  "language_info": {
   "codemirror_mode": {
    "name": "ipython",
    "version": 3
   },
   "file_extension": ".py",
   "mimetype": "text/x-python",
   "name": "python",
   "nbconvert_exporter": "python",
   "pygments_lexer": "ipython3",
   "version": "3.6.8"
  }
 },
 "nbformat": 4,
 "nbformat_minor": 2
}
